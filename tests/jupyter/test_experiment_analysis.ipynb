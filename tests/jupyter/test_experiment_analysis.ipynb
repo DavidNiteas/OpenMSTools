{
 "cells": [
  {
   "cell_type": "code",
   "execution_count": 1,
   "id": "32a843eb",
   "metadata": {},
   "outputs": [],
   "source": [
    "from MetaMSTools.txn.experiment_analysis import ExperimentAnalysis, ExperimentAnalysisConfig"
   ]
  },
  {
   "cell_type": "code",
   "execution_count": 2,
   "id": "f9298825",
   "metadata": {},
   "outputs": [],
   "source": [
    "config = ExperimentAnalysisConfig(\n",
    "    use_rt_aligner=False,\n",
    "    use_feature_linker=False,\n",
    "    worker_type=\"threads\",\n",
    "    # worker_type=\"processes\",\n",
    "    num_workers=2,\n",
    ")\n",
    "ea = ExperimentAnalysis(config = config)\n"
   ]
  },
  {
   "cell_type": "code",
   "execution_count": 3,
   "id": "223f9149",
   "metadata": {},
   "outputs": [],
   "source": [
    "wrapper,linker = ea(\n",
    "    queue_name=\"test_queue\",\n",
    "    exp_file_paths=[\n",
    "        \"../data/raw_files/Metabolomics_1.mzML\",\n",
    "        \"../data/raw_files/Metabolomics_2.mzML\",\n",
    "    ],\n",
    "    ref_file_paths=[\n",
    "        \"../data/raw_files/QC1.mzML\",\n",
    "        \"../data/raw_files/QC2.mzML\"\n",
    "    ],\n",
    "    save_dir_path=\"../cache/test_queue\"\n",
    ")"
   ]
  },
  {
   "cell_type": "code",
   "execution_count": null,
   "id": "4853d13e",
   "metadata": {},
   "outputs": [
    {
     "data": {
      "text/plain": [
       "MetaMSTools.snaps.MassDataModule.data_module.experiment_module.wrappers.MetaMSDataWrapper"
      ]
     },
     "execution_count": 5,
     "metadata": {},
     "output_type": "execute_result"
    }
   ],
   "source": [
    "wrapper"
   ]
  }
 ],
 "metadata": {
  "kernelspec": {
   "display_name": "MS310",
   "language": "python",
   "name": "python3"
  },
  "language_info": {
   "codemirror_mode": {
    "name": "ipython",
    "version": 3
   },
   "file_extension": ".py",
   "mimetype": "text/x-python",
   "name": "python",
   "nbconvert_exporter": "python",
   "pygments_lexer": "ipython3",
   "version": "3.10.17"
  }
 },
 "nbformat": 4,
 "nbformat_minor": 5
}
